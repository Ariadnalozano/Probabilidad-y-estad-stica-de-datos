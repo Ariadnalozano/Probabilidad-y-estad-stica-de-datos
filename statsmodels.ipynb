{
  "cells": [
    {
      "cell_type": "markdown",
      "metadata": {
        "id": "kZUHI1XZ3kqO"
      },
      "source": [
        "# Statistical Modeling with Python\n",
        "\n",
        "`statsmodels` is better suited for traditional stats"
      ]
    },
    {
      "cell_type": "code",
      "execution_count": 33,
      "metadata": {
        "ExecuteTime": {
          "end_time": "2020-05-13T15:18:36.966142Z",
          "start_time": "2020-05-13T15:18:36.963232Z"
        },
        "id": "z4knjWV43kqW"
      },
      "outputs": [],
      "source": [
        "# the statsmodels.api uses numpy array notation\n",
        "# statsmodels.formula.api use formula notation (similar to R's formula notation)\n",
        "import numpy as np\n",
        "import pandas as pd\n",
        "import matplotlib.pyplot as plt\n",
        "import seaborn as sns\n",
        "import statsmodels.api as sm\n",
        "import statsmodels.formula.api as smf"
      ]
    },
    {
      "cell_type": "markdown",
      "metadata": {
        "id": "WR2zVUkZ3kqb"
      },
      "source": [
        "## A minimal OLS example"
      ]
    },
    {
      "cell_type": "markdown",
      "metadata": {
        "id": "4Qhd04K63kqc"
      },
      "source": [
        "Four pairs of points"
      ]
    },
    {
      "cell_type": "code",
      "execution_count": 34,
      "metadata": {
        "id": "J3vOGS6_3kqc"
      },
      "outputs": [],
      "source": [
        "#(1,2),(2,6), (3,4), (4,8)\n",
        "x = np.array([1,2,3,4,5,6,7,8,9,10])\n",
        "y = np.array([2,6,4,8,10,12,14,16,18,20])"
      ]
    },
    {
      "cell_type": "code",
      "execution_count": 35,
      "metadata": {
        "id": "L9QIhXVi3kqd",
        "outputId": "fe013d1c-3fe0-4df4-d2e8-9a03d219db7e",
        "colab": {
          "base_uri": "https://localhost:8080/",
          "height": 269
        }
      },
      "outputs": [
        {
          "output_type": "display_data",
          "data": {
            "text/plain": [
              "<Figure size 432x288 with 1 Axes>"
            ],
            "image/png": "[encoded data removed]"
          },
          "metadata": {}
        }
      ],
      "source": [
        "plt.scatter(x,y, marker = '.')\n",
        "plt.xlim(0,5)\n",
        "plt.ylim(0,10)\n",
        "plt.show()"
      ]
    },
    {
      "cell_type": "code",
      "execution_count": 36,
      "metadata": {
        "id": "luUEVA6w3kqg",
        "outputId": "d91be08d-38cc-4e97-e106-4f1ea9971a97",
        "colab": {
          "base_uri": "https://localhost:8080/"
        }
      },
      "outputs": [
        {
          "output_type": "stream",
          "name": "stdout",
          "text": [
            "    x   y\n",
            "0   1   2\n",
            "1   2   6\n",
            "2   3   4\n",
            "3   4   8\n",
            "4   5  10\n",
            "5   6  12\n",
            "6   7  14\n",
            "7   8  16\n",
            "8   9  18\n",
            "9  10  20\n"
          ]
        }
      ],
      "source": [
        "# make a dataframe of our data\n",
        "d = pd.DataFrame({'x':x, 'y':y})\n",
        "print(d)"
      ]
    },
    {
      "cell_type": "markdown",
      "metadata": {
        "id": "BQcb7etn3kqi"
      },
      "source": [
        "Seaborn lmplot"
      ]
    },
    {
      "cell_type": "code",
      "execution_count": 37,
      "metadata": {
        "id": "vgetHdZZ3kqj",
        "outputId": "f18d5749-1869-4d8e-c201-bacf67a5fd9b",
        "colab": {
          "base_uri": "https://localhost:8080/",
          "height": 386
        }
      },
      "outputs": [
        {
          "output_type": "execute_result",
          "data": {
            "text/plain": [
              "<seaborn.axisgrid.FacetGrid at 0x7fb11030f9d0>"
            ]
          },
          "metadata": {},
          "execution_count": 37
        },
        {
          "output_type": "display_data",
          "data": {
            "text/plain": [
              "<Figure size 360x360 with 1 Axes>"
            ],
            "image/png": "[encoded data removed]"
          },
          "metadata": {}
        }
      ],
      "source": [
        "sns.lmplot(x = 'x', y = 'y', data = d)\n"
      ]
    },
    {
      "cell_type": "markdown",
      "metadata": {
        "id": "dOi1Wzhy3kqk"
      },
      "source": [
        "## Formula notation with statsmodels\n",
        "use statsmodels.formula.api (often imported as smf)"
      ]
    },
    {
      "cell_type": "code",
      "execution_count": 38,
      "metadata": {
        "id": "T4TluJa03kql"
      },
      "outputs": [],
      "source": [
        "# data is in a dataframe\n",
        "model = smf.ols('y ~ x', data = d)\n"
      ]
    },
    {
      "cell_type": "code",
      "execution_count": 39,
      "metadata": {
        "id": "WsUbe4BB3kqm"
      },
      "outputs": [],
      "source": [
        "# estimation of coefficients is not done until you call fit() on the model\n",
        "results = model.fit()\n",
        "\n"
      ]
    },
    {
      "cell_type": "code",
      "execution_count": 40,
      "metadata": {
        "id": "DKUR8jV13kqn",
        "outputId": "89951436-fc73-490c-c694-b20b55eea35c",
        "colab": {
          "base_uri": "https://localhost:8080/"
        }
      },
      "outputs": [
        {
          "output_type": "stream",
          "name": "stdout",
          "text": [
            "                            OLS Regression Results                            \n",
            "==============================================================================\n",
            "Dep. Variable:                      y   R-squared:                       0.976\n",
            "Model:                            OLS   Adj. R-squared:                  0.973\n",
            "Method:                 Least Squares   F-statistic:                     324.0\n",
            "Date:                Wed, 16 Nov 2022   Prob (F-statistic):           9.31e-08\n",
            "Time:                        18:37:25   Log-Likelihood:                -13.043\n",
            "No. Observations:                  10   AIC:                             30.09\n",
            "Df Residuals:                       8   BIC:                             30.69\n",
            "Df Model:                           1                                         \n",
            "Covariance Type:            nonrobust                                         \n",
            "==============================================================================\n",
            "                 coef    std err          t      P>|t|      [0.025      0.975]\n",
            "------------------------------------------------------------------------------\n",
            "Intercept      0.1333      0.681      0.196      0.850      -1.437       1.704\n",
            "x              1.9758      0.110     18.000      0.000       1.723       2.229\n",
            "==============================================================================\n",
            "Omnibus:                        5.764   Durbin-Watson:                   3.019\n",
            "Prob(Omnibus):                  0.056   Jarque-Bera (JB):                1.731\n",
            "Skew:                          -0.243   Prob(JB):                        0.421\n",
            "Kurtosis:                       4.979   Cond. No.                         13.7\n",
            "==============================================================================\n",
            "\n",
            "Notes:\n",
            "[1] Standard Errors assume that the covariance matrix of the errors is correctly specified.\n"
          ]
        },
        {
          "output_type": "stream",
          "name": "stderr",
          "text": [
            "/usr/local/lib/python3.7/dist-packages/scipy/stats/stats.py:1542: UserWarning: kurtosistest only valid for n>=20 ... continuing anyway, n=10\n",
            "  \"anyway, n=%i\" % int(n))\n"
          ]
        }
      ],
      "source": [
        "\n",
        "print(results.summary()) \n",
        "\n"
      ]
    },
    {
      "cell_type": "code",
      "source": [],
      "metadata": {
        "id": "T_wMlMw8nWZ9"
      },
      "execution_count": 40,
      "outputs": []
    },
    {
      "cell_type": "markdown",
      "metadata": {
        "id": "RBZEl28a3kqp"
      },
      "source": [
        "Using the abline_plot function for plotting the results"
      ]
    },
    {
      "cell_type": "code",
      "execution_count": 41,
      "metadata": {
        "id": "4JzeLT3D3kqq",
        "outputId": "047ddbf4-254d-496a-af46-b08159db9525",
        "colab": {
          "base_uri": "https://localhost:8080/",
          "height": 269
        }
      },
      "outputs": [
        {
          "output_type": "display_data",
          "data": {
            "text/plain": [
              "<Figure size 432x288 with 1 Axes>"
            ],
            "image/png": "[encoded data removed]"
          },
          "metadata": {}
        }
      ],
      "source": [
        "sm.graphics.abline_plot(model_results = results)\n",
        "plt.scatter(d.x, d.y)\n",
        "\n",
        "plt.xlim(0,5)\n",
        "plt.ylim(0,10)\n",
        "\n",
        "plt.show()"
      ]
    },
    {
      "cell_type": "markdown",
      "metadata": {
        "id": "utqyzlBY3kqs"
      },
      "source": [
        "Generating an anova table"
      ]
    },
    {
      "cell_type": "code",
      "execution_count": 42,
      "metadata": {
        "id": "LIXdKQzU3kqt",
        "outputId": "e2614918-c41c-4702-ba7c-fad3ee5d35cf",
        "colab": {
          "base_uri": "https://localhost:8080/"
        }
      },
      "outputs": [
        {
          "output_type": "stream",
          "name": "stdout",
          "text": [
            "           df      sum_sq     mean_sq           F        PR(>F)\n",
            "x         1.0  322.048485  322.048485  324.012195  9.307460e-08\n",
            "Residual  8.0    7.951515    0.993939         NaN           NaN\n"
          ]
        }
      ],
      "source": [
        "print(sm.stats.anova_lm(results))\n"
      ]
    },
    {
      "cell_type": "markdown",
      "metadata": {
        "id": "18BcwpYi3kqt"
      },
      "source": [
        "Making predictions"
      ]
    },
    {
      "cell_type": "code",
      "execution_count": 43,
      "metadata": {
        "id": "1Y8ycHTr3kqu",
        "outputId": "a668b491-e869-4bae-cf48-7cf9b9ca5857",
        "colab": {
          "base_uri": "https://localhost:8080/"
        }
      },
      "outputs": [
        {
          "output_type": "execute_result",
          "data": {
            "text/plain": [
              "0    4.084848\n",
              "dtype: float64"
            ]
          },
          "metadata": {},
          "execution_count": 43
        }
      ],
      "source": [
        "results.predict({'x' : 2})"
      ]
    },
    {
      "cell_type": "markdown",
      "metadata": {
        "id": "gZb4auin3kqv"
      },
      "source": [
        "## numpy array notation\n",
        "similar to sklearn's notation"
      ]
    },
    {
      "cell_type": "code",
      "execution_count": 44,
      "metadata": {
        "id": "tB6N6gvB3kqx",
        "outputId": "324c828e-c505-4105-cad3-aaa352d0c309",
        "colab": {
          "base_uri": "https://localhost:8080/"
        }
      },
      "outputs": [
        {
          "output_type": "stream",
          "name": "stdout",
          "text": [
            "[ 1  2  3  4  5  6  7  8  9 10]\n"
          ]
        }
      ],
      "source": [
        "print(x)"
      ]
    },
    {
      "cell_type": "code",
      "execution_count": 45,
      "metadata": {
        "id": "Q3KgNPrt3kqz"
      },
      "outputs": [],
      "source": [
        "X = sm.add_constant(x)  \n",
        "# need to add a constant for the intercept term.\n",
        "# because we are using the numpy notation, we use sm rather than smf"
      ]
    },
    {
      "cell_type": "code",
      "execution_count": 46,
      "metadata": {
        "id": "bZNg44Ou3kq1",
        "outputId": "b03dc461-a33d-4069-9a18-d968464908e4",
        "colab": {
          "base_uri": "https://localhost:8080/"
        }
      },
      "outputs": [
        {
          "output_type": "stream",
          "name": "stdout",
          "text": [
            "[[ 1.  1.]\n",
            " [ 1.  2.]\n",
            " [ 1.  3.]\n",
            " [ 1.  4.]\n",
            " [ 1.  5.]\n",
            " [ 1.  6.]\n",
            " [ 1.  7.]\n",
            " [ 1.  8.]\n",
            " [ 1.  9.]\n",
            " [ 1. 10.]]\n"
          ]
        }
      ],
      "source": [
        "print(X)"
      ]
    },
    {
      "cell_type": "markdown",
      "metadata": {
        "id": "uU2kh-QB3kq2"
      },
      "source": [
        "$$y_i = \\beta_0 + \\beta_1 x_i + \\epsilon_i$$\n",
        "\n",
        "$$\\mathbf{\\hat{Y}} = \\boldsymbol{\\beta} \\mathbf{X}$$\n"
      ]
    },
    {
      "cell_type": "code",
      "execution_count": 47,
      "metadata": {
        "id": "HH71fwrW3kq3"
      },
      "outputs": [],
      "source": [
        "# OLS is capitalized in the numpy notation\n",
        "model2 = sm.OLS(y, X)  \n"
      ]
    },
    {
      "cell_type": "code",
      "execution_count": 48,
      "metadata": {
        "id": "XGaMNbye3kq4"
      },
      "outputs": [],
      "source": [
        "results2 = model2.fit()\n"
      ]
    },
    {
      "cell_type": "code",
      "execution_count": 49,
      "metadata": {
        "id": "d3VOwKvE3kq7",
        "outputId": "b9b9193f-ee92-427a-978b-3a59c15f6e9d",
        "colab": {
          "base_uri": "https://localhost:8080/"
        }
      },
      "outputs": [
        {
          "output_type": "stream",
          "name": "stdout",
          "text": [
            "                            OLS Regression Results                            \n",
            "==============================================================================\n",
            "Dep. Variable:                      y   R-squared:                       0.976\n",
            "Model:                            OLS   Adj. R-squared:                  0.973\n",
            "Method:                 Least Squares   F-statistic:                     324.0\n",
            "Date:                Wed, 16 Nov 2022   Prob (F-statistic):           9.31e-08\n",
            "Time:                        18:37:26   Log-Likelihood:                -13.043\n",
            "No. Observations:                  10   AIC:                             30.09\n",
            "Df Residuals:                       8   BIC:                             30.69\n",
            "Df Model:                           1                                         \n",
            "Covariance Type:            nonrobust                                         \n",
            "==============================================================================\n",
            "                 coef    std err          t      P>|t|      [0.025      0.975]\n",
            "------------------------------------------------------------------------------\n",
            "const          0.1333      0.681      0.196      0.850      -1.437       1.704\n",
            "x1             1.9758      0.110     18.000      0.000       1.723       2.229\n",
            "==============================================================================\n",
            "Omnibus:                        5.764   Durbin-Watson:                   3.019\n",
            "Prob(Omnibus):                  0.056   Jarque-Bera (JB):                1.731\n",
            "Skew:                          -0.243   Prob(JB):                        0.421\n",
            "Kurtosis:                       4.979   Cond. No.                         13.7\n",
            "==============================================================================\n",
            "\n",
            "Notes:\n",
            "[1] Standard Errors assume that the covariance matrix of the errors is correctly specified.\n"
          ]
        },
        {
          "output_type": "stream",
          "name": "stderr",
          "text": [
            "/usr/local/lib/python3.7/dist-packages/scipy/stats/stats.py:1542: UserWarning: kurtosistest only valid for n>=20 ... continuing anyway, n=10\n",
            "  \"anyway, n=%i\" % int(n))\n"
          ]
        }
      ],
      "source": [
        "print(results2.summary())\n"
      ]
    },
    {
      "cell_type": "markdown",
      "metadata": {
        "id": "woC7-Xoe3kq8"
      },
      "source": [
        "## OLS solution\n",
        "\n",
        "$$(X^TX)^{-1}X^TY$$"
      ]
    },
    {
      "cell_type": "code",
      "execution_count": 50,
      "metadata": {
        "id": "_u04WrWF3kq9",
        "outputId": "8aeb85e5-e488-4c4f-fc27-a816525813ca",
        "colab": {
          "base_uri": "https://localhost:8080/"
        }
      },
      "outputs": [
        {
          "output_type": "execute_result",
          "data": {
            "text/plain": [
              "array([[ 1.,  1.],\n",
              "       [ 1.,  2.],\n",
              "       [ 1.,  3.],\n",
              "       [ 1.,  4.],\n",
              "       [ 1.,  5.],\n",
              "       [ 1.,  6.],\n",
              "       [ 1.,  7.],\n",
              "       [ 1.,  8.],\n",
              "       [ 1.,  9.],\n",
              "       [ 1., 10.]])"
            ]
          },
          "metadata": {},
          "execution_count": 50
        }
      ],
      "source": [
        "X"
      ]
    },
    {
      "cell_type": "code",
      "execution_count": 51,
      "metadata": {
        "id": "auUsHkgZ3kq-",
        "outputId": "2075e9ac-1558-4c89-fc62-2e86bdc231fe",
        "colab": {
          "base_uri": "https://localhost:8080/"
        }
      },
      "outputs": [
        {
          "output_type": "execute_result",
          "data": {
            "text/plain": [
              "array([0.13333333, 1.97575758])"
            ]
          },
          "metadata": {},
          "execution_count": 51
        }
      ],
      "source": [
        "np.linalg.inv(X.T @ X) @ (X.T @ y)"
      ]
    },
    {
      "cell_type": "markdown",
      "metadata": {
        "id": "aSbpg2_u3kq-"
      },
      "source": [
        "## Plot Interaction of Categorical Factors\n",
        "\n",
        "https://www.statsmodels.org/dev/examples/notebooks/generated/categorical_interaction_plot.html\n",
        "\n",
        "In this example, we will visualize the interaction between categorical factors. First, we will create some categorical data. Then, we will plot it using the interaction_plot function, which internally re-codes the x-factor categories to integers."
      ]
    },
    {
      "cell_type": "code",
      "execution_count": 52,
      "metadata": {
        "id": "RWsPCgzk3krA",
        "outputId": "c2a5c500-02eb-42ae-bb33-23182542ac8c",
        "colab": {
          "base_uri": "https://localhost:8080/"
        }
      },
      "outputs": [
        {
          "output_type": "stream",
          "name": "stdout",
          "text": [
            "    Consumption  Gender  Income\n",
            "0            51    Male      80\n",
            "1            52    Male      80\n",
            "2            53    Male      90\n",
            "3            54    Male      90\n",
            "4            56    Male     100\n",
            "5            57    Male     100\n",
            "6            55  Female      80\n",
            "7            56  Female      80\n",
            "8            58  Female      90\n",
            "9            59  Female      90\n",
            "10           62  Female     100\n",
            "11           63  Female     100\n"
          ]
        }
      ],
      "source": [
        "# https://stackoverflow.com/questions/55663474/interaction-plot-from-statsmodels-formula-api-using-python\n",
        "\n",
        "import pandas as pd\n",
        "from statsmodels.formula.api import ols\n",
        "\n",
        "Consumption = [51, 52, 53, 54, 56, 57, 55, 56, 58, 59, 62, 63]\n",
        "Gender  = [\"Male\", \"Male\", \"Male\", \"Male\", \"Male\", \"Male\", \"Female\",\n",
        "           \"Female\", \"Female\", \"Female\", \"Female\", \"Female\"]\n",
        "Income = [80, 80, 90, 90, 100, 100, 80, 80, 90, 90, 100, 100]\n",
        "\n",
        "df = pd.DataFrame( {\"Consumption\": Consumption, \"Gender\": Gender, \"Income\": Income})\n",
        "print(df)"
      ]
    },
    {
      "cell_type": "code",
      "execution_count": 60,
      "metadata": {
        "id": "MhFIAGwF3krD",
        "outputId": "5cf32825-95e1-43a8-ac14-54713474279b",
        "colab": {
          "base_uri": "https://localhost:8080/",
          "height": 533
        }
      },
      "outputs": [
        {
          "output_type": "stream",
          "name": "stderr",
          "text": [
            "/usr/local/lib/python3.7/dist-packages/scipy/stats/stats.py:1542: UserWarning: kurtosistest only valid for n>=20 ... continuing anyway, n=12\n",
            "  \"anyway, n=%i\" % int(n))\n"
          ]
        },
        {
          "output_type": "execute_result",
          "data": {
            "text/plain": [
              "<class 'statsmodels.iolib.summary.Summary'>\n",
              "\"\"\"\n",
              "                            OLS Regression Results                            \n",
              "==============================================================================\n",
              "Dep. Variable:            Consumption   R-squared:                       0.963\n",
              "Model:                            OLS   Adj. R-squared:                  0.955\n",
              "Method:                 Least Squares   F-statistic:                     116.7\n",
              "Date:                Wed, 16 Nov 2022   Prob (F-statistic):           3.66e-07\n",
              "Time:                        18:49:15   Log-Likelihood:                -12.525\n",
              "No. Observations:                  12   AIC:                             31.05\n",
              "Df Residuals:                       9   BIC:                             32.51\n",
              "Df Model:                           2                                         \n",
              "Covariance Type:            nonrobust                                         \n",
              "==================================================================================\n",
              "                     coef    std err          t      P>|t|      [0.025      0.975]\n",
              "----------------------------------------------------------------------------------\n",
              "Intercept         31.8333      2.546     12.505      0.000      26.075      37.592\n",
              "Gender[T.Male]    -5.0000      0.458    -10.914      0.000      -6.036      -3.964\n",
              "Income             0.3000      0.028     10.694      0.000       0.237       0.363\n",
              "==============================================================================\n",
              "Omnibus:                        0.407   Durbin-Watson:                   2.294\n",
              "Prob(Omnibus):                  0.816   Jarque-Bera (JB):                0.503\n",
              "Skew:                           0.228   Prob(JB):                        0.778\n",
              "Kurtosis:                       2.107   Cond. No.                     1.00e+03\n",
              "==============================================================================\n",
              "\n",
              "Notes:\n",
              "[1] Standard Errors assume that the covariance matrix of the errors is correctly specified.\n",
              "[2] The condition number is large,  1e+03. This might indicate that there are\n",
              "strong multicollinearity or other numerical problems.\n",
              "\"\"\""
            ],
            "text/html": [
              "<table class=\"simpletable\">\n",
              "<caption>OLS Regression Results</caption>\n",
              "<tr>\n",
              "  <th>Dep. Variable:</th>       <td>Consumption</td>   <th>  R-squared:         </th> <td>   0.963</td>\n",
              "</tr>\n",
              "<tr>\n",
              "  <th>Model:</th>                   <td>OLS</td>       <th>  Adj. R-squared:    </th> <td>   0.955</td>\n",
              "</tr>\n",
              "<tr>\n",
              "  <th>Method:</th>             <td>Least Squares</td>  <th>  F-statistic:       </th> <td>   116.7</td>\n",
              "</tr>\n",
              "<tr>\n",
              "  <th>Date:</th>             <td>Wed, 16 Nov 2022</td> <th>  Prob (F-statistic):</th> <td>3.66e-07</td>\n",
              "</tr>\n",
              "<tr>\n",
              "  <th>Time:</th>                 <td>18:49:15</td>     <th>  Log-Likelihood:    </th> <td> -12.525</td>\n",
              "</tr>\n",
              "<tr>\n",
              "  <th>No. Observations:</th>      <td>    12</td>      <th>  AIC:               </th> <td>   31.05</td>\n",
              "</tr>\n",
              "<tr>\n",
              "  <th>Df Residuals:</th>          <td>     9</td>      <th>  BIC:               </th> <td>   32.51</td>\n",
              "</tr>\n",
              "<tr>\n",
              "  <th>Df Model:</th>              <td>     2</td>      <th>                     </th>     <td> </td>   \n",
              "</tr>\n",
              "<tr>\n",
              "  <th>Covariance Type:</th>      <td>nonrobust</td>    <th>                     </th>     <td> </td>   \n",
              "</tr>\n",
              "</table>\n",
              "<table class=\"simpletable\">\n",
              "<tr>\n",
              "         <td></td>           <th>coef</th>     <th>std err</th>      <th>t</th>      <th>P>|t|</th>  <th>[0.025</th>    <th>0.975]</th>  \n",
              "</tr>\n",
              "<tr>\n",
              "  <th>Intercept</th>      <td>   31.8333</td> <td>    2.546</td> <td>   12.505</td> <td> 0.000</td> <td>   26.075</td> <td>   37.592</td>\n",
              "</tr>\n",
              "<tr>\n",
              "  <th>Gender[T.Male]</th> <td>   -5.0000</td> <td>    0.458</td> <td>  -10.914</td> <td> 0.000</td> <td>   -6.036</td> <td>   -3.964</td>\n",
              "</tr>\n",
              "<tr>\n",
              "  <th>Income</th>         <td>    0.3000</td> <td>    0.028</td> <td>   10.694</td> <td> 0.000</td> <td>    0.237</td> <td>    0.363</td>\n",
              "</tr>\n",
              "</table>\n",
              "<table class=\"simpletable\">\n",
              "<tr>\n",
              "  <th>Omnibus:</th>       <td> 0.407</td> <th>  Durbin-Watson:     </th> <td>   2.294</td>\n",
              "</tr>\n",
              "<tr>\n",
              "  <th>Prob(Omnibus):</th> <td> 0.816</td> <th>  Jarque-Bera (JB):  </th> <td>   0.503</td>\n",
              "</tr>\n",
              "<tr>\n",
              "  <th>Skew:</th>          <td> 0.228</td> <th>  Prob(JB):          </th> <td>   0.778</td>\n",
              "</tr>\n",
              "<tr>\n",
              "  <th>Kurtosis:</th>      <td> 2.107</td> <th>  Cond. No.          </th> <td>1.00e+03</td>\n",
              "</tr>\n",
              "</table><br/><br/>Notes:<br/>[1] Standard Errors assume that the covariance matrix of the errors is correctly specified.<br/>[2] The condition number is large,  1e+03. This might indicate that there are<br/>strong multicollinearity or other numerical problems."
            ]
          },
          "metadata": {},
          "execution_count": 60
        }
      ],
      "source": [
        "Reg = ols(formula = \"Consumption ~ Gender + Income\", data = df)\n",
        "Fit = Reg.fit()\n",
        "Fit.summary()"
      ]
    },
    {
      "cell_type": "code",
      "execution_count": 54,
      "metadata": {
        "id": "2a9fWhAd3krT",
        "outputId": "0625b668-70f8-4c98-c1a5-8d5c7dbc8e18",
        "colab": {
          "base_uri": "https://localhost:8080/",
          "height": 282
        }
      },
      "outputs": [
        {
          "output_type": "display_data",
          "data": {
            "text/plain": [
              "<Figure size 432x288 with 1 Axes>"
            ],
            "image/png": "[encoded data removed]"
          },
          "metadata": {}
        }
      ],
      "source": [
        "import matplotlib.pyplot as plt\n",
        "from statsmodels.graphics.factorplots import interaction_plot\n",
        "plt.style.use('ggplot')\n",
        "\n",
        "fig = interaction_plot(\n",
        "   x        = Income,\n",
        "   trace    = Gender,\n",
        "   response = Fit.fittedvalues,\n",
        "   colors   = ['red','blue'],\n",
        "   markers  = ['D','^'])\n",
        "plt.xlabel('Income')\n",
        "plt.ylabel('Consumption')\n",
        "plt.legend().set_title(None)\n",
        "plt.show()"
      ]
    },
    {
      "cell_type": "code",
      "execution_count": 54,
      "metadata": {
        "id": "0EHRrn2L3krc"
      },
      "outputs": [],
      "source": []
    }
  ],
  "metadata": {
    "celltoolbar": "Slideshow",
    "kernelspec": {
      "display_name": "Python 3 (ipykernel)",
      "language": "python",
      "name": "python3"
    },
    "language_info": {
      "codemirror_mode": {
        "name": "ipython",
        "version": 3
      },
      "file_extension": ".py",
      "mimetype": "text/x-python",
      "name": "python",
      "nbconvert_exporter": "python",
      "pygments_lexer": "ipython3",
      "version": "3.9.7"
    },
    "latex_envs": {
      "LaTeX_envs_menu_present": true,
      "autoclose": false,
      "autocomplete": true,
      "bibliofile": "biblio.bib",
      "cite_by": "apalike",
      "current_citInitial": 1,
      "eqLabelWithNumbers": true,
      "eqNumInitial": 1,
      "hotkeys": {
        "equation": "Ctrl-E",
        "itemize": "Ctrl-I"
      },
      "labels_anchors": false,
      "latex_user_defs": false,
      "report_style_numbering": false,
      "user_envs_cfg": false
    },
    "toc": {
      "base_numbering": 1,
      "nav_menu": {},
      "number_sections": false,
      "sideBar": true,
      "skip_h1_title": false,
      "title_cell": "Table of Contents",
      "title_sidebar": "Contents",
      "toc_cell": false,
      "toc_position": {},
      "toc_section_display": true,
      "toc_window_display": false
    },
    "colab": {
      "provenance": []
    }
  },
  "nbformat": 4,
  "nbformat_minor": 0
}