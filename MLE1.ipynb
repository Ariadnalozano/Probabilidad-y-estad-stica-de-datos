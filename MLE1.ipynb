{
  "nbformat": 4,
  "nbformat_minor": 0,
  "metadata": {
    "colab": {
      "provenance": []
    },
    "kernelspec": {
      "name": "python3",
      "display_name": "Python 3"
    },
    "language_info": {
      "name": "python"
    }
  },
  "cells": [
    {
      "cell_type": "markdown",
      "source": [
        "# Estimador Máximo Verosímil"
      ],
      "metadata": {
        "id": "0ZhHGbrEYPle"
      }
    },
    {
      "cell_type": "code",
      "source": [
        "from scipy.stats import bernoulli, binom\n",
        "import numpy as np \n",
        "import sympy \n",
        "from sympy.abc import x, z, n "
      ],
      "metadata": {
        "id": "9K-P0vMcbVzM"
      },
      "execution_count": 9,
      "outputs": []
    },
    {
      "cell_type": "markdown",
      "source": [
        "Existen distintos métodos para estimar parámetros desconocidos a partir de un conjunto de datos. El Estimador Máximo Verosímil (MLE) responde a la pregunta:\n",
        "\n",
        "$$\\text{¿Para qué valor del parámetro, los datos observados tienen la probabilidad más alta}$$"
      ],
      "metadata": {
        "id": "7uHYEgUbi6Fd"
      }
    },
    {
      "cell_type": "markdown",
      "source": [
        "**Ejemplo 1.-** Una moneda se lanza 100 veces. Dado que salen 55 soles, encuentre el MLE para la probabilidad $p$ de obtener sol en un solo lanzamiento.\n",
        "\n",
        "\n",
        "Podemos pensar en contar el número de caras en 100 lanzamientos como un experimento. Para un valor dado de $p$, la probabilidad de obtener $55$ soles en este experimento es la probabilidad binomial (la función de verosimilitud):\n",
        "$$P(55 \\ \\text{soles}; p)=\\binom{100}{55}p^{55}(1-p)^{45}.$$\n",
        "\n",
        "Nota: La verosimilitud $P(\\text{datos};p)$ cambia conforme el parámetro de interés, $p$, cambia.\n"
      ],
      "metadata": {
        "id": "a6-DozTok11t"
      }
    },
    {
      "cell_type": "markdown",
      "source": [
        "**Definición.-** Para un conjunto de datos $D$, el MLE para el parámetro $p$ es el valor de $p$ que maximiza la verosimilitud $P(D;p)$."
      ],
      "metadata": {
        "id": "3Dy90mVAmCID"
      }
    },
    {
      "cell_type": "markdown",
      "source": [
        "Buscamos los puntos críticos:\n",
        "$$\\frac{d}{dp}P(D;p)=\\binom{100}{55}(55p^{54}(1-p)^{45}-45p^{55}(1-p)^{44})=0.$$\n",
        "\n",
        "Resolviendo para $p$,\n",
        "\\begin{align*}\n",
        "55p^{54}(1-p)^{45}&=45p^{55}(1-p)^{44}\\\\\n",
        "55(1-p)&=45p\\\\\n",
        "55 &= 100p\n",
        "\\end{align*}\n",
        "El MLE es $\\hat{p}=0.55$"
      ],
      "metadata": {
        "id": "F6IDicDLn-J3"
      }
    },
    {
      "cell_type": "code",
      "source": [
        "p = sympy.symbols(\"p\", positive = True)\n",
        "f = p**55*(1-p)**(100-55)\n",
        "phat = sympy.solve(sympy.diff(f,p),p)[0]\n",
        "\n",
        "print(\"El estimador MLE es\", phat) "
      ],
      "metadata": {
        "id": "ntGt4qzLeM7q",
        "colab": {
          "base_uri": "https://localhost:8080/"
        },
        "outputId": "c47def20-3e54-493a-f056-8d3b06be8556"
      },
      "execution_count": 28,
      "outputs": [
        {
          "output_type": "stream",
          "name": "stdout",
          "text": [
            "El estimador MLE es 11/20\n"
          ]
        }
      ]
    },
    {
      "cell_type": "markdown",
      "source": [
        "Generalmente, suele ser más fácil trabajar con el logaritmo natural de la función de verosimilitud. Para abreviar, esto se llama simplemente log-verosimilitud. Dado que la función $\\ln(x)$ es una función creciente, los máximos de la verosimilitud y el logaritmo de la verosimilitud coinciden.\n",
        "\n",
        "Hagamos otro ejemplo."
      ],
      "metadata": {
        "id": "Ezc7FrCyp79T"
      }
    },
    {
      "cell_type": "code",
      "source": [
        "# Generamos un conjunto de datos tomados con distribución Bernoulli con parámetro 0.7\n",
        "\n",
        "r = binom.rvs(1, 0.7, size=100)\n",
        "\n",
        "r "
      ],
      "metadata": {
        "colab": {
          "base_uri": "https://localhost:8080/"
        },
        "id": "inUx34_SqkSy",
        "outputId": "bdbc2706-6a3c-46c2-ee71-fbff6cf27fed"
      },
      "execution_count": 11,
      "outputs": [
        {
          "output_type": "execute_result",
          "data": {
            "text/plain": [
              "array([0, 1, 1, 1, 0, 0, 1, 1, 1, 1, 1, 1, 1, 1, 1, 1, 1, 1, 1, 1, 1, 0,\n",
              "       0, 1, 0, 0, 1, 1, 1, 1, 0, 1, 0, 1, 0, 1, 1, 1, 0, 1, 1, 1, 1, 0,\n",
              "       1, 1, 1, 0, 0, 1, 1, 1, 1, 1, 1, 0, 1, 1, 0, 0, 1, 0, 0, 1, 1, 1,\n",
              "       1, 1, 1, 1, 1, 1, 1, 1, 0, 1, 1, 1, 1, 1, 1, 1, 0, 0, 1, 0, 1, 1,\n",
              "       1, 1, 1, 1, 1, 1, 0, 1, 1, 1, 0, 1])"
            ]
          },
          "metadata": {},
          "execution_count": 11
        }
      ]
    },
    {
      "cell_type": "code",
      "source": [
        "f = p**x*(1-p)**(1-x)\n",
        "\n",
        "J = np.prod([f.subs(x, i) for i in r ] )\n",
        "\n",
        "logJ = sympy.expand_log(sympy.log(J))\n",
        "\n",
        "\n",
        "phat = sympy.solve(sympy.diff(logJ,p),p)[0]\n",
        "\n",
        "print(\"El estimador MLE es\", phat) "
      ],
      "metadata": {
        "colab": {
          "base_uri": "https://localhost:8080/"
        },
        "id": "6i3VA-LIfb6V",
        "outputId": "30412722-4e37-4f4c-c93a-2d40a56a424b"
      },
      "execution_count": 19,
      "outputs": [
        {
          "output_type": "stream",
          "name": "stdout",
          "text": [
            "El estimador MLE es 3/4\n"
          ]
        }
      ]
    },
    {
      "cell_type": "markdown",
      "source": [
        "**Ejemplo 2.-** Suponga que se tiene una variable aleatoria discreta $X$ con densidad:\n",
        "\t\\begin{align*}\n",
        "\t\\mathbb{P}(X=0)&=\\frac{2}{3}p,\\\\\n",
        "\t\\mathbb{P}(X=1)&=\\frac{1}{3}p,\\\\\n",
        "\t\\mathbb{P}(X=2)&=\\frac{2}{3}(1-p),\\\\\n",
        "\t\\mathbb{P}(X=3)&=\\frac{1}{3}(1-p)\n",
        "\t\\end{align*}\n",
        "con $p\\in [0,1]$. Se toman las siguientes $10$ observaciones independientes de acuerdo a la distribución dada:\n",
        "$$(3, 0, 2, 1, 3, 2, 1, 0, 2, 1).$$\n",
        "Encuentra el MLE de $\\theta$."
      ],
      "metadata": {
        "id": "EXi7ZD0Vg6xv"
      }
    },
    {
      "cell_type": "code",
      "source": [
        "f = (2*p/3)**2*(p/3)**(3)*(2*(1-p)/3)**3*((1-p)/3)**2\n",
        "logf = sympy.expand_log(sympy.log(f))\n",
        "phat = sympy.solve(sympy.diff(logf,p),p)[0]\n",
        "\n",
        "print(\"El estimador MLE es\", phat)"
      ],
      "metadata": {
        "colab": {
          "base_uri": "https://localhost:8080/"
        },
        "id": "MNgdweTuiGPk",
        "outputId": "a8cd2c41-2bd7-4263-bc64-4d0f45fb8921"
      },
      "execution_count": 40,
      "outputs": [
        {
          "output_type": "stream",
          "name": "stdout",
          "text": [
            "El estimador MLE es 1/2\n"
          ]
        }
      ]
    },
    {
      "cell_type": "markdown",
      "source": [
        "**Ejemplo 3.-** Una variable aleatoria, $X$, es exponencial con parámetro $\\lambda>0$ si\n",
        "$$P(X\\leq x)=1-e^{-\\frac{1}{\\lambda} x}, x>0.$$"
      ],
      "metadata": {
        "id": "d-hMKFdPxOtw"
      }
    },
    {
      "cell_type": "code",
      "source": [
        "import math\n",
        "import matplotlib.pyplot as plt\n",
        "import numpy as np\n",
        "import scipy\n",
        "import scipy.stats\n",
        "\n",
        "LAMBDA = 5\n",
        "X = np.random.exponential(LAMBDA, 1000)\n",
        "\n",
        "_, l = scipy.stats.expon.fit(X, floc=0)\n",
        "\n",
        "pdf = scipy.stats.expon.pdf\n",
        "x = range(0, 80)\n",
        "plt.hist(X, bins=x, density='true')\n",
        "plt.plot(pdf(x, scale=l))\n",
        "plt.xlabel('Valor')\n",
        "plt.ylabel('Frecuencia observada')\n",
        "plt.legend(['Distribución ajustada', 'Datos observados', ]);"
      ],
      "metadata": {
        "id": "Y9vv9xccqqrL",
        "colab": {
          "base_uri": "https://localhost:8080/",
          "height": 300
        },
        "outputId": "19131fea-529d-43dd-f786-3fed341f4093"
      },
      "execution_count": 27,
      "outputs": [
        {
          "output_type": "display_data",
          "data": {
            "text/plain": [
              "<Figure size 432x288 with 1 Axes>"
            ],
            "image/png": "[encoded data removed]"
          },
          "metadata": {
            "needs_background": "light"
          }
        }
      ]
    },
    {
      "cell_type": "markdown",
      "source": [
        "**Ejemplo 4.-** Suponga que la vida útil de los focos de cierta marca se modela mediante una distribución exponencial con parámetro (desconocido) $\\lambda$. Probamos 5 focos y encontramos que tienen una vida útil de 2, 3, 1, 3 y 4 años, respectivamente. \n",
        "\n",
        "¿Cuál es el MLE para $\\lambda$?\n",
        "\n",
        "En este caso, la función de verosimilitud es\n",
        "$$f(2,3,1,3,4; \\lambda)=\\frac{1}{λ^5}e^{-\\frac{1}{\\lambda}(2+3+1+3+4)}.$$"
      ],
      "metadata": {
        "id": "J03bLloT0dh1"
      }
    },
    {
      "cell_type": "code",
      "source": [
        "from sympy import exp\n",
        "l = sympy.symbols(\"l\", positive = True)\n",
        "f = (1/l**5)*exp(-13/l)\n",
        "logf = sympy.expand_log(sympy.log(f))\n",
        "lhat = sympy.solve(sympy.diff(logf,l),l)[0]\n",
        "\n",
        "print(\"El estimador MLE es\", lhat)\n",
        "\n"
      ],
      "metadata": {
        "colab": {
          "base_uri": "https://localhost:8080/"
        },
        "id": "yhwUBvPp1eER",
        "outputId": "078decc2-ca9c-47a0-b562-db2e2a90c3b6"
      },
      "execution_count": 42,
      "outputs": [
        {
          "output_type": "stream",
          "name": "stdout",
          "text": [
            "El estimador MLE es 13/5\n"
          ]
        }
      ]
    },
    {
      "cell_type": "markdown",
      "source": [
        "Ejercicios:\n",
        "\n",
        "1. Investigación:\n",
        "\n",
        "   a. Menciona 5 aplicaciones de la variable aleatoria exponencial.\n",
        "\n",
        "   b. ¿Qué aplicaciones de la exponencial podrían ser de utilidad en tu carrera?\n",
        "\n",
        "2. Crea una muestra aleatoria de 1000 datos tomados a partir de una muestra aleatoria exponencial.\n",
        "\n",
        "3. Calcula el MLE para tu conjunto de datos."
      ],
      "metadata": {
        "id": "N-rjASt9zk4k"
      }
    }
  ]
}